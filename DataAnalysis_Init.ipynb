{
  "nbformat": 4,
  "nbformat_minor": 0,
  "metadata": {
    "colab": {
      "provenance": []
    },
    "kernelspec": {
      "name": "python3",
      "display_name": "Python 3"
    },
    "language_info": {
      "name": "python"
    }
  },
  "cells": [
    {
      "cell_type": "code",
      "execution_count": null,
      "metadata": {
        "colab": {
          "base_uri": "https://localhost:8080/",
          "height": 423
        },
        "id": "Del5Syu-N85-",
        "outputId": "b721c83e-ceea-4cb4-926c-369bbf528f12"
      },
      "outputs": [
        {
          "output_type": "execute_result",
          "data": {
            "text/plain": [
              "     shape_right_es chosen_side_es\n",
              "40              0.8          right\n",
              "41              0.4           left\n",
              "42             -0.4           left\n",
              "43             -0.8           left\n",
              "44             -0.4          right\n",
              "..              ...            ...\n",
              "334            -0.8           left\n",
              "335            -0.4           left\n",
              "336             0.0           left\n",
              "337             0.4          right\n",
              "338             0.4           left\n",
              "\n",
              "[140 rows x 2 columns]"
            ],
            "text/html": [
              "\n",
              "  <div id=\"df-8a72a142-cccb-48fb-b6be-705d9e0f3499\">\n",
              "    <div class=\"colab-df-container\">\n",
              "      <div>\n",
              "<style scoped>\n",
              "    .dataframe tbody tr th:only-of-type {\n",
              "        vertical-align: middle;\n",
              "    }\n",
              "\n",
              "    .dataframe tbody tr th {\n",
              "        vertical-align: top;\n",
              "    }\n",
              "\n",
              "    .dataframe thead th {\n",
              "        text-align: right;\n",
              "    }\n",
              "</style>\n",
              "<table border=\"1\" class=\"dataframe\">\n",
              "  <thead>\n",
              "    <tr style=\"text-align: right;\">\n",
              "      <th></th>\n",
              "      <th>shape_right_es</th>\n",
              "      <th>chosen_side_es</th>\n",
              "    </tr>\n",
              "  </thead>\n",
              "  <tbody>\n",
              "    <tr>\n",
              "      <th>40</th>\n",
              "      <td>0.8</td>\n",
              "      <td>right</td>\n",
              "    </tr>\n",
              "    <tr>\n",
              "      <th>41</th>\n",
              "      <td>0.4</td>\n",
              "      <td>left</td>\n",
              "    </tr>\n",
              "    <tr>\n",
              "      <th>42</th>\n",
              "      <td>-0.4</td>\n",
              "      <td>left</td>\n",
              "    </tr>\n",
              "    <tr>\n",
              "      <th>43</th>\n",
              "      <td>-0.8</td>\n",
              "      <td>left</td>\n",
              "    </tr>\n",
              "    <tr>\n",
              "      <th>44</th>\n",
              "      <td>-0.4</td>\n",
              "      <td>right</td>\n",
              "    </tr>\n",
              "    <tr>\n",
              "      <th>...</th>\n",
              "      <td>...</td>\n",
              "      <td>...</td>\n",
              "    </tr>\n",
              "    <tr>\n",
              "      <th>334</th>\n",
              "      <td>-0.8</td>\n",
              "      <td>left</td>\n",
              "    </tr>\n",
              "    <tr>\n",
              "      <th>335</th>\n",
              "      <td>-0.4</td>\n",
              "      <td>left</td>\n",
              "    </tr>\n",
              "    <tr>\n",
              "      <th>336</th>\n",
              "      <td>0.0</td>\n",
              "      <td>left</td>\n",
              "    </tr>\n",
              "    <tr>\n",
              "      <th>337</th>\n",
              "      <td>0.4</td>\n",
              "      <td>right</td>\n",
              "    </tr>\n",
              "    <tr>\n",
              "      <th>338</th>\n",
              "      <td>0.4</td>\n",
              "      <td>left</td>\n",
              "    </tr>\n",
              "  </tbody>\n",
              "</table>\n",
              "<p>140 rows × 2 columns</p>\n",
              "</div>\n",
              "      <button class=\"colab-df-convert\" onclick=\"convertToInteractive('df-8a72a142-cccb-48fb-b6be-705d9e0f3499')\"\n",
              "              title=\"Convert this dataframe to an interactive table.\"\n",
              "              style=\"display:none;\">\n",
              "        \n",
              "  <svg xmlns=\"http://www.w3.org/2000/svg\" height=\"24px\"viewBox=\"0 0 24 24\"\n",
              "       width=\"24px\">\n",
              "    <path d=\"M0 0h24v24H0V0z\" fill=\"none\"/>\n",
              "    <path d=\"M18.56 5.44l.94 2.06.94-2.06 2.06-.94-2.06-.94-.94-2.06-.94 2.06-2.06.94zm-11 1L8.5 8.5l.94-2.06 2.06-.94-2.06-.94L8.5 2.5l-.94 2.06-2.06.94zm10 10l.94 2.06.94-2.06 2.06-.94-2.06-.94-.94-2.06-.94 2.06-2.06.94z\"/><path d=\"M17.41 7.96l-1.37-1.37c-.4-.4-.92-.59-1.43-.59-.52 0-1.04.2-1.43.59L10.3 9.45l-7.72 7.72c-.78.78-.78 2.05 0 2.83L4 21.41c.39.39.9.59 1.41.59.51 0 1.02-.2 1.41-.59l7.78-7.78 2.81-2.81c.8-.78.8-2.07 0-2.86zM5.41 20L4 18.59l7.72-7.72 1.47 1.35L5.41 20z\"/>\n",
              "  </svg>\n",
              "      </button>\n",
              "      \n",
              "  <style>\n",
              "    .colab-df-container {\n",
              "      display:flex;\n",
              "      flex-wrap:wrap;\n",
              "      gap: 12px;\n",
              "    }\n",
              "\n",
              "    .colab-df-convert {\n",
              "      background-color: #E8F0FE;\n",
              "      border: none;\n",
              "      border-radius: 50%;\n",
              "      cursor: pointer;\n",
              "      display: none;\n",
              "      fill: #1967D2;\n",
              "      height: 32px;\n",
              "      padding: 0 0 0 0;\n",
              "      width: 32px;\n",
              "    }\n",
              "\n",
              "    .colab-df-convert:hover {\n",
              "      background-color: #E2EBFA;\n",
              "      box-shadow: 0px 1px 2px rgba(60, 64, 67, 0.3), 0px 1px 3px 1px rgba(60, 64, 67, 0.15);\n",
              "      fill: #174EA6;\n",
              "    }\n",
              "\n",
              "    [theme=dark] .colab-df-convert {\n",
              "      background-color: #3B4455;\n",
              "      fill: #D2E3FC;\n",
              "    }\n",
              "\n",
              "    [theme=dark] .colab-df-convert:hover {\n",
              "      background-color: #434B5C;\n",
              "      box-shadow: 0px 1px 3px 1px rgba(0, 0, 0, 0.15);\n",
              "      filter: drop-shadow(0px 1px 2px rgba(0, 0, 0, 0.3));\n",
              "      fill: #FFFFFF;\n",
              "    }\n",
              "  </style>\n",
              "\n",
              "      <script>\n",
              "        const buttonEl =\n",
              "          document.querySelector('#df-8a72a142-cccb-48fb-b6be-705d9e0f3499 button.colab-df-convert');\n",
              "        buttonEl.style.display =\n",
              "          google.colab.kernel.accessAllowed ? 'block' : 'none';\n",
              "\n",
              "        async function convertToInteractive(key) {\n",
              "          const element = document.querySelector('#df-8a72a142-cccb-48fb-b6be-705d9e0f3499');\n",
              "          const dataTable =\n",
              "            await google.colab.kernel.invokeFunction('convertToInteractive',\n",
              "                                                     [key], {});\n",
              "          if (!dataTable) return;\n",
              "\n",
              "          const docLinkHtml = 'Like what you see? Visit the ' +\n",
              "            '<a target=\"_blank\" href=https://colab.research.google.com/notebooks/data_table.ipynb>data table notebook</a>'\n",
              "            + ' to learn more about interactive tables.';\n",
              "          element.innerHTML = '';\n",
              "          dataTable['output_type'] = 'display_data';\n",
              "          await google.colab.output.renderOutput(dataTable, element);\n",
              "          const docLink = document.createElement('div');\n",
              "          docLink.innerHTML = docLinkHtml;\n",
              "          element.appendChild(docLink);\n",
              "        }\n",
              "      </script>\n",
              "    </div>\n",
              "  </div>\n",
              "  "
            ]
          },
          "metadata": {},
          "execution_count": 21
        }
      ],
      "source": [
        "import pandas as pd\n",
        "df2=pd.read_excel('data_all_replication.xlsx')\n",
        "df2=df[[\"shape_right_es\",\"chosen_side_es\"]]\n",
        "df=df2.dropna()\n",
        "df\n"
      ]
    },
    {
      "cell_type": "code",
      "source": [
        "shape_right_es_frequency={}\n",
        "row_drop=set()\n",
        "for i in df.index:\n",
        "  if(df.loc[i,\"shape_right_es\"] not in shape_right_es_frequency):\n",
        "    shape_right_es_frequency[df.loc[i,\"shape_right_es\"]]={\"Left\":0,\"Right\":0}\n",
        "  if(df.loc[i,\"chosen_side_es\"]==\"left\"):\n",
        "    shape_right_es_frequency[df.loc[i,\"shape_right_es\"]][\"Left\"]+=1\n",
        "  elif(df.loc[i,\"chosen_side_es\"]==\"right\"):\n",
        "    shape_right_es_frequency[df.loc[i,\"shape_right_es\"]][\"Right\"]+=1\n",
        "  else:\n",
        "    row_drop.add(i) \n",
        "# for no in row_drop:\n",
        "# df.drop(row_drop)\n",
        "shape_right_es_frequency"
      ],
      "metadata": {
        "colab": {
          "base_uri": "https://localhost:8080/"
        },
        "id": "rRR6k8TtTCoV",
        "outputId": "ed299615-a980-4678-e037-158f51a3f9ee"
      },
      "execution_count": null,
      "outputs": [
        {
          "output_type": "execute_result",
          "data": {
            "text/plain": [
              "{0.8: {'Left': 5, 'Right': 15},\n",
              " 0.4: {'Left': 8, 'Right': 12},\n",
              " -0.4: {'Left': 15, 'Right': 5},\n",
              " -0.8: {'Left': 16, 'Right': 4},\n",
              " 0.0: {'Left': 13, 'Right': 7},\n",
              " 0.2: {'Left': 8, 'Right': 12},\n",
              " -0.2: {'Left': 13, 'Right': 7}}"
            ]
          },
          "metadata": {},
          "execution_count": 23
        }
      ]
    },
    {
      "cell_type": "code",
      "source": [
        "import matplotlib.pyplot as plt\n",
        "import numpy as np\n",
        "fig = plt.figure(figsize = (35, 5))\n",
        "Left_List=[]\n",
        "Right_List=[]\n",
        "shape_right_es_list=[]\n",
        "for shape_right_es in shape_right_es_frequency:\n",
        "  Left_List.append(shape_right_es_frequency[shape_right_es][\"Left\"])\n",
        "  Right_List.append(shape_right_es_frequency[shape_right_es][\"Right\"])\n",
        "  shape_right_es_list.append(shape_right_es)\n",
        "shape_right_es_arr=np.arange(len(shape_right_es_list))\n",
        "rect1=plt.bar(shape_right_es_arr-0.15, Left_List, width=0.30, color='orange')\n",
        "rect2=plt.bar(shape_right_es_arr+0.15, Right_List, width=0.30, color='fuchsia')\n",
        "plt.xticks(shape_right_es_arr, shape_right_es_list)\n",
        "plt.xlabel(\"S_value\")\n",
        "plt.ylabel(\"Side_chosen\")\n",
        "plt.legend((rect1[0], rect2[0]),(\"Left\", \"Right\"))\n",
        "plt.show()"
      ],
      "metadata": {
        "colab": {
          "base_uri": "https://localhost:8080/",
          "height": 196
        },
        "id": "WoTxD5fjW9eC",
        "outputId": "e871b3d0-56f7-494d-9839-b0e834851560"
      },
      "execution_count": null,
      "outputs": [
        {
          "output_type": "display_data",
          "data": {
            "text/plain": [
              "<Figure size 3500x500 with 1 Axes>"
            ],
            "image/png": "[encoded data removed]"
          },
          "metadata": {}
        }
      ]
    }
  ]
}